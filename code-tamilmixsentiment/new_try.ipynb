{
 "cells": [
  {
   "cell_type": "code",
   "execution_count": 1,
   "metadata": {},
   "outputs": [
    {
     "name": "stderr",
     "output_type": "stream",
     "text": [
      "/home/bharaj/anaconda3/lib/python3.6/site-packages/h5py/__init__.py:34: FutureWarning: Conversion of the second argument of issubdtype from `float` to `np.floating` is deprecated. In future, it will be treated as `np.float64 == np.dtype(float).type`.\n",
      "  from ._conv import register_converters as _register_converters\n",
      "Using TensorFlow backend.\n"
     ]
    }
   ],
   "source": [
    "import numpy as np # linear algebra\n",
    "import pandas as pd # data processing, CSV file I/O (e.g. pd.read_csv)\n",
    "\n",
    "from sklearn.feature_extraction.text import CountVectorizer\n",
    "from keras.preprocessing.text import Tokenizer\n",
    "from keras.preprocessing.sequence import pad_sequences\n",
    "from keras.models import Sequential\n",
    "from keras.layers import Dense, Embedding, LSTM, SpatialDropout1D\n",
    "from sklearn.model_selection import train_test_split\n",
    "from keras.utils.np_utils import to_categorical\n",
    "from sklearn.utils import resample\n",
    "from sklearn.utils import shuffle\n",
    "from sklearn.metrics import confusion_matrix,classification_report\n",
    "import re\n"
   ]
  },
  {
   "cell_type": "code",
   "execution_count": 35,
   "metadata": {},
   "outputs": [],
   "source": [
    "data = pd.read_csv('Sentiment.csv')\n",
    "\n",
    "data = data[['text','sentiment']]"
   ]
  },
  {
   "cell_type": "code",
   "execution_count": 36,
   "metadata": {},
   "outputs": [
    {
     "data": {
      "text/html": [
       "<div>\n",
       "<style>\n",
       "    .dataframe thead tr:only-child th {\n",
       "        text-align: right;\n",
       "    }\n",
       "\n",
       "    .dataframe thead th {\n",
       "        text-align: left;\n",
       "    }\n",
       "\n",
       "    .dataframe tbody tr th {\n",
       "        vertical-align: top;\n",
       "    }\n",
       "</style>\n",
       "<table border=\"1\" class=\"dataframe\">\n",
       "  <thead>\n",
       "    <tr style=\"text-align: right;\">\n",
       "      <th></th>\n",
       "      <th>text</th>\n",
       "      <th>sentiment</th>\n",
       "    </tr>\n",
       "  </thead>\n",
       "  <tbody>\n",
       "    <tr>\n",
       "      <th>0</th>\n",
       "      <td>RT @NancyLeeGrahn: How did everyone feel about...</td>\n",
       "      <td>Neutral</td>\n",
       "    </tr>\n",
       "    <tr>\n",
       "      <th>1</th>\n",
       "      <td>RT @ScottWalker: Didn't catch the full #GOPdeb...</td>\n",
       "      <td>Positive</td>\n",
       "    </tr>\n",
       "    <tr>\n",
       "      <th>2</th>\n",
       "      <td>RT @TJMShow: No mention of Tamir Rice and the ...</td>\n",
       "      <td>Neutral</td>\n",
       "    </tr>\n",
       "    <tr>\n",
       "      <th>3</th>\n",
       "      <td>RT @RobGeorge: That Carly Fiorina is trending ...</td>\n",
       "      <td>Positive</td>\n",
       "    </tr>\n",
       "    <tr>\n",
       "      <th>4</th>\n",
       "      <td>RT @DanScavino: #GOPDebate w/ @realDonaldTrump...</td>\n",
       "      <td>Positive</td>\n",
       "    </tr>\n",
       "  </tbody>\n",
       "</table>\n",
       "</div>"
      ],
      "text/plain": [
       "                                                text sentiment\n",
       "0  RT @NancyLeeGrahn: How did everyone feel about...   Neutral\n",
       "1  RT @ScottWalker: Didn't catch the full #GOPdeb...  Positive\n",
       "2  RT @TJMShow: No mention of Tamir Rice and the ...   Neutral\n",
       "3  RT @RobGeorge: That Carly Fiorina is trending ...  Positive\n",
       "4  RT @DanScavino: #GOPDebate w/ @realDonaldTrump...  Positive"
      ]
     },
     "execution_count": 36,
     "metadata": {},
     "output_type": "execute_result"
    }
   ],
   "source": [
    "data[0:5]"
   ]
  },
  {
   "cell_type": "code",
   "execution_count": 37,
   "metadata": {},
   "outputs": [
    {
     "data": {
      "text/plain": [
       "0       rt @nancyleegrahn: how did everyone feel about...\n",
       "1       rt @scottwalker: didn't catch the full #gopdeb...\n",
       "2       rt @tjmshow: no mention of tamir rice and the ...\n",
       "3       rt @robgeorge: that carly fiorina is trending ...\n",
       "4       rt @danscavino: #gopdebate w/ @realdonaldtrump...\n",
       "5       rt @gregabbott_tx: @tedcruz: \"on my first day ...\n",
       "6       rt @warriorwoman91: i liked her and was happy ...\n",
       "7       going on #msnbc live with @thomasaroberts arou...\n",
       "8       deer in the headlights rt @lizzwinstead: ben c...\n",
       "9       rt @nancyosborne180: last night's debate prove...\n",
       "10      @jgreendc @realdonaldtrump in all fairness #bi...\n",
       "11      rt @waynedupreeshow: just woke up to tweet thi...\n",
       "12      me reading my family's comments about how grea...\n",
       "13      rt @arcticfox2016: rt @allenwestrepub \"dear @j...\n",
       "14      rt @pattonoswalt: i loved scott walker as mark...\n",
       "15      hey @chrischristie exploiting the tragedy of 9...\n",
       "16      rt @carolcnn: #donaldtrump under fire for comm...\n",
       "17      rt @johncardillo: guess who had most speaking ...\n",
       "18      reason comment is funny 'in case you're ignora...\n",
       "19      rt @pamelageller: huckabee: paying for transge...\n",
       "20      rt @chucknellis: cruz has class &amp; truth, t...\n",
       "21      rt @mchamric: rt “@teatraitors: #gopdebate was...\n",
       "22      rt @erinmallorylong: no *i* hate planned paren...\n",
       "23      rt @thekevinryder: #gopdebate (vine by @dabull...\n",
       "24      rt @mrpooni: fox news trying to convince us yo...\n",
       "25      #gopdebate rankings: worst to be performance -...\n",
       "26      rt @thebaxterbean: scott walker's abortion ban...\n",
       "27      rt @feministabulous: it's not a competition, b...\n",
       "28      rt @mch7576: rt “@teatraitors: #gopdebate was ...\n",
       "29      rt @hillaryclinton: watch the #gopdebate? bet ...\n",
       "                              ...                        \n",
       "4974    the last question in the #gopdebate was \"does ...\n",
       "4975    rt @kajawhitehouse: @markmelin i couldn't watc...\n",
       "4976    politics nerd moment: on vacation. lost my chi...\n",
       "4977    it might be the fear toxin talking, but my int...\n",
       "4978    rt @wendie07: #gopdebate i'm sorry ted cruz lo...\n",
       "4979    the real winner of the \"kids' table\" #gopdebat...\n",
       "4980    rt @mattyiceaz: just throwing it out there...j...\n",
       "4981    rt @2noame: and now we get to hear from a bunc...\n",
       "4982    that @scottwalker's zinger about hillary's ema...\n",
       "4983    \"the most unexpected part of the gop debate wa...\n",
       "4984    rt @kaylasmith4791: really enjoyed everything ...\n",
       "4985    husband turns on #gopdebate. asshats begin ass...\n",
       "4986    @realdonaldtrump maybe see if you can get @sar...\n",
       "4987    i cut the cord, so no fox for debate and no co...\n",
       "4988    rt @louispeitzman: from now on, i'm answering ...\n",
       "4989    rt @alexandraheuser: fox prime time debate was...\n",
       "4990    rt @thrmattbelloni: we got the leader of frien...\n",
       "4991    rt @davidtatl: this! biggest loser last night ...\n",
       "4992    jotted a few notes on last nights #gopdebate a...\n",
       "4993    rt @hopeisbowater: #gopdebate has destroyed #c...\n",
       "4994    rt @jiadarola: the most detailed policy propos...\n",
       "4995    if you're seriously thinking about voting for ...\n",
       "4996    the best thing in #gopdebate was @govchristie ...\n",
       "4997    i beg you donald trump supporters to reconside...\n",
       "4998    #gopdebate #dumptrump @megynkelly u have a new...\n",
       "4999    safe to say that darwin used #politicalcorrect...\n",
       "5000    #rfs reduces our need for oil imports from hos...\n",
       "5001    looks like @realbencarson &amp; @marcorubio we...\n",
       "5002    #gopdebate another past poll about the general...\n",
       "5003                                                  nan\n",
       "Name: text, Length: 5004, dtype: object"
      ]
     },
     "execution_count": 37,
     "metadata": {},
     "output_type": "execute_result"
    }
   ],
   "source": [
    "data['text'].apply(lambda x: str(x).lower())"
   ]
  },
  {
   "cell_type": "code",
   "execution_count": 38,
   "metadata": {},
   "outputs": [
    {
     "data": {
      "text/html": [
       "<div>\n",
       "<style>\n",
       "    .dataframe thead tr:only-child th {\n",
       "        text-align: right;\n",
       "    }\n",
       "\n",
       "    .dataframe thead th {\n",
       "        text-align: left;\n",
       "    }\n",
       "\n",
       "    .dataframe tbody tr th {\n",
       "        vertical-align: top;\n",
       "    }\n",
       "</style>\n",
       "<table border=\"1\" class=\"dataframe\">\n",
       "  <thead>\n",
       "    <tr style=\"text-align: right;\">\n",
       "      <th></th>\n",
       "      <th>text</th>\n",
       "      <th>sentiment</th>\n",
       "    </tr>\n",
       "  </thead>\n",
       "  <tbody>\n",
       "    <tr>\n",
       "      <th>0</th>\n",
       "      <td>rt nancyleegrahn how did everyone feel about t...</td>\n",
       "      <td>Neutral</td>\n",
       "    </tr>\n",
       "    <tr>\n",
       "      <th>1</th>\n",
       "      <td>rt scottwalker didnt catch the full gopdebate ...</td>\n",
       "      <td>Positive</td>\n",
       "    </tr>\n",
       "    <tr>\n",
       "      <th>2</th>\n",
       "      <td>rt tjmshow no mention of tamir rice and the go...</td>\n",
       "      <td>Neutral</td>\n",
       "    </tr>\n",
       "    <tr>\n",
       "      <th>3</th>\n",
       "      <td>rt robgeorge that carly fiorina is trending  h...</td>\n",
       "      <td>Positive</td>\n",
       "    </tr>\n",
       "    <tr>\n",
       "      <th>4</th>\n",
       "      <td>rt danscavino gopdebate w realdonaldtrump deli...</td>\n",
       "      <td>Positive</td>\n",
       "    </tr>\n",
       "  </tbody>\n",
       "</table>\n",
       "</div>"
      ],
      "text/plain": [
       "                                                text sentiment\n",
       "0  rt nancyleegrahn how did everyone feel about t...   Neutral\n",
       "1  rt scottwalker didnt catch the full gopdebate ...  Positive\n",
       "2  rt tjmshow no mention of tamir rice and the go...   Neutral\n",
       "3  rt robgeorge that carly fiorina is trending  h...  Positive\n",
       "4  rt danscavino gopdebate w realdonaldtrump deli...  Positive"
      ]
     },
     "execution_count": 38,
     "metadata": {},
     "output_type": "execute_result"
    }
   ],
   "source": [
    "\n",
    "#data = data[data.sentiment != \"Neutral\"]\n",
    "data['text'] = data['text'].apply(lambda x: str(x).lower())\n",
    "# removing special chars\n",
    "data['text'] = data['text'].apply((lambda x: re.sub('[^a-zA-z0-9\\s]','',x)))\n",
    "#\n",
    "data.head()"
   ]
  },
  {
   "cell_type": "code",
   "execution_count": 39,
   "metadata": {},
   "outputs": [
    {
     "name": "stdout",
     "output_type": "stream",
     "text": [
      "1586\n",
      "5846\n",
      "2576\n"
     ]
    },
    {
     "data": {
      "text/html": [
       "<div>\n",
       "<style>\n",
       "    .dataframe thead tr:only-child th {\n",
       "        text-align: right;\n",
       "    }\n",
       "\n",
       "    .dataframe thead th {\n",
       "        text-align: left;\n",
       "    }\n",
       "\n",
       "    .dataframe tbody tr th {\n",
       "        vertical-align: top;\n",
       "    }\n",
       "</style>\n",
       "<table border=\"1\" class=\"dataframe\">\n",
       "  <thead>\n",
       "    <tr style=\"text-align: right;\">\n",
       "      <th></th>\n",
       "      <th>text</th>\n",
       "      <th>sentiment</th>\n",
       "    </tr>\n",
       "  </thead>\n",
       "  <tbody>\n",
       "    <tr>\n",
       "      <th>0</th>\n",
       "      <td>nancyleegrahn how did everyone feel about the...</td>\n",
       "      <td>Neutral</td>\n",
       "    </tr>\n",
       "    <tr>\n",
       "      <th>1</th>\n",
       "      <td>scottwalker didnt catch the full gopdebate la...</td>\n",
       "      <td>Positive</td>\n",
       "    </tr>\n",
       "    <tr>\n",
       "      <th>2</th>\n",
       "      <td>tjmshow no mention of tamir rice and the gopd...</td>\n",
       "      <td>Neutral</td>\n",
       "    </tr>\n",
       "    <tr>\n",
       "      <th>3</th>\n",
       "      <td>robgeorge that carly fiorina is trending  hou...</td>\n",
       "      <td>Positive</td>\n",
       "    </tr>\n",
       "    <tr>\n",
       "      <th>4</th>\n",
       "      <td>danscavino gopdebate w realdonaldtrump delive...</td>\n",
       "      <td>Positive</td>\n",
       "    </tr>\n",
       "  </tbody>\n",
       "</table>\n",
       "</div>"
      ],
      "text/plain": [
       "                                                text sentiment\n",
       "0   nancyleegrahn how did everyone feel about the...   Neutral\n",
       "1   scottwalker didnt catch the full gopdebate la...  Positive\n",
       "2   tjmshow no mention of tamir rice and the gopd...   Neutral\n",
       "3   robgeorge that carly fiorina is trending  hou...  Positive\n",
       "4   danscavino gopdebate w realdonaldtrump delive...  Positive"
      ]
     },
     "execution_count": 39,
     "metadata": {},
     "output_type": "execute_result"
    }
   ],
   "source": [
    "print(data[ data['sentiment'] == 'Positive'].size)\n",
    "print(data[ data['sentiment'] == 'Negative'].size)\n",
    "print(data[ data['sentiment'] == 'Neutral'].size)\n",
    "for idx,row in data.iterrows():\n",
    "    row[0] = row[0].replace('rt','')\n",
    "data.head()"
   ]
  },
  {
   "cell_type": "code",
   "execution_count": 40,
   "metadata": {},
   "outputs": [
    {
     "data": {
      "text/plain": [
       "array([[   0,    0,    0,    0,    0,    0,    0,    0,    0,    0,    0,\n",
       "           0,    0, 1357,   46,   60,  223,  384,   19,    2,  231,  198,\n",
       "         102,   15,   25,  745,    1],\n",
       "       [   0,    0,    0,    0,    0,    0,    0,    0,    0,  271,  108,\n",
       "        1855,    2,  529,    1,   15,   25,  224,   27,  141,    5,  127,\n",
       "         899,    9, 1193,  849,  746]], dtype=int32)"
      ]
     },
     "execution_count": 40,
     "metadata": {},
     "output_type": "execute_result"
    }
   ],
   "source": [
    "max_fatures = 2000\n",
    "tokenizer = Tokenizer(num_words=max_fatures, split=' ')\n",
    "tokenizer.fit_on_texts(data['text'].values)\n",
    "X = tokenizer.texts_to_sequences(data['text'].values)\n",
    "X = pad_sequences(X)\n",
    "X[:2]"
   ]
  },
  {
   "cell_type": "code",
   "execution_count": 44,
   "metadata": {},
   "outputs": [
    {
     "name": "stdout",
     "output_type": "stream",
     "text": [
      "_________________________________________________________________\n",
      "Layer (type)                 Output Shape              Param #   \n",
      "=================================================================\n",
      "embedding_3 (Embedding)      (None, 27, 128)           256000    \n",
      "_________________________________________________________________\n",
      "spatial_dropout1d_3 (Spatial (None, 27, 128)           0         \n",
      "_________________________________________________________________\n",
      "lstm_3 (LSTM)                (None, 196)               254800    \n",
      "_________________________________________________________________\n",
      "dense_3 (Dense)              (None, 3)                 591       \n",
      "=================================================================\n",
      "Total params: 511,391\n",
      "Trainable params: 511,391\n",
      "Non-trainable params: 0\n",
      "_________________________________________________________________\n",
      "None\n"
     ]
    }
   ],
   "source": [
    "embed_dim = 128\n",
    "lstm_out = 196\n",
    "\n",
    "model = Sequential()\n",
    "model.add(Embedding(max_fatures, embed_dim,input_length = X.shape[1]))\n",
    "model.add(SpatialDropout1D(0.4))\n",
    "model.add(LSTM(lstm_out, dropout=0.2, recurrent_dropout=0.2))\n",
    "model.add(Dense(3,activation='softmax'))\n",
    "model.compile(loss = 'categorical_crossentropy', optimizer='adam',metrics = ['accuracy'])\n",
    "print(model.summary())"
   ]
  },
  {
   "cell_type": "code",
   "execution_count": 42,
   "metadata": {},
   "outputs": [
    {
     "data": {
      "text/plain": [
       "array([[0, 1, 0],\n",
       "       [0, 0, 1],\n",
       "       [0, 1, 0],\n",
       "       ...,\n",
       "       [0, 0, 1],\n",
       "       [0, 1, 0],\n",
       "       [1, 0, 0]], dtype=uint8)"
      ]
     },
     "execution_count": 42,
     "metadata": {},
     "output_type": "execute_result"
    }
   ],
   "source": [
    "Y = pd.get_dummies(data['sentiment']).values\n",
    "Y"
   ]
  },
  {
   "cell_type": "code",
   "execution_count": 43,
   "metadata": {},
   "outputs": [
    {
     "name": "stdout",
     "output_type": "stream",
     "text": [
      "(4003, 27) (4003, 3)\n",
      "(1001, 27) (1001, 3)\n"
     ]
    }
   ],
   "source": [
    "X_train, X_test, Y_train, Y_test = train_test_split(X,Y, test_size = 0.20, random_state = 42)\n",
    "print(X_train.shape,Y_train.shape)\n",
    "print(X_test.shape,Y_test.shape)"
   ]
  },
  {
   "cell_type": "code",
   "execution_count": 45,
   "metadata": {},
   "outputs": [
    {
     "name": "stdout",
     "output_type": "stream",
     "text": [
      "Epoch 1/15\n",
      "4003/4003 [==============================] - 4s 938us/step - loss: 0.9876 - acc: 0.5781\n",
      "Epoch 2/15\n",
      "4003/4003 [==============================] - 2s 452us/step - loss: 0.8962 - acc: 0.5963\n",
      "Epoch 3/15\n",
      "4003/4003 [==============================] - 2s 454us/step - loss: 0.8048 - acc: 0.6460\n",
      "Epoch 4/15\n",
      "4003/4003 [==============================] - 2s 516us/step - loss: 0.7229 - acc: 0.6962\n",
      "Epoch 5/15\n",
      "4003/4003 [==============================] - 2s 474us/step - loss: 0.6270 - acc: 0.7424\n",
      "Epoch 6/15\n",
      "4003/4003 [==============================] - 2s 440us/step - loss: 0.5601 - acc: 0.7634\n",
      "Epoch 7/15\n",
      "4003/4003 [==============================] - 2s 445us/step - loss: 0.5239 - acc: 0.7847\n",
      "Epoch 8/15\n",
      "4003/4003 [==============================] - 2s 444us/step - loss: 0.4687 - acc: 0.8061\n",
      "Epoch 9/15\n",
      "4003/4003 [==============================] - 2s 473us/step - loss: 0.4406 - acc: 0.8131\n",
      "Epoch 10/15\n",
      "4003/4003 [==============================] - 2s 453us/step - loss: 0.3943 - acc: 0.8424\n",
      "Epoch 11/15\n",
      "4003/4003 [==============================] - 2s 447us/step - loss: 0.4020 - acc: 0.8306\n",
      "Epoch 12/15\n",
      "4003/4003 [==============================] - 2s 455us/step - loss: 0.3656 - acc: 0.8519\n",
      "Epoch 13/15\n",
      "4003/4003 [==============================] - 2s 446us/step - loss: 0.3430 - acc: 0.8569\n",
      "Epoch 14/15\n",
      "4003/4003 [==============================] - 2s 449us/step - loss: 0.3256 - acc: 0.8639\n",
      "Epoch 15/15\n",
      "4003/4003 [==============================] - 2s 464us/step - loss: 0.2991 - acc: 0.8796\n"
     ]
    },
    {
     "data": {
      "text/plain": [
       "<keras.callbacks.History at 0x7f7eb01e6780>"
      ]
     },
     "execution_count": 45,
     "metadata": {},
     "output_type": "execute_result"
    }
   ],
   "source": [
    "batch_size = 128\n",
    "model.fit(X_train, Y_train, epochs = 15, batch_size=batch_size, verbose = 1)"
   ]
  },
  {
   "cell_type": "code",
   "execution_count": 32,
   "metadata": {},
   "outputs": [
    {
     "name": "stdout",
     "output_type": "stream",
     "text": [
      "Epoch 1/15\n",
      "2972/2972 [==============================] - 1s 491us/step - loss: 0.0449 - acc: 0.9808\n",
      "Epoch 2/15\n",
      "2972/2972 [==============================] - 1s 471us/step - loss: 0.0441 - acc: 0.9778\n",
      "Epoch 3/15\n",
      "2972/2972 [==============================] - ETA: 0s - loss: 0.0432 - acc: 0.985 - 1s 473us/step - loss: 0.0432 - acc: 0.9852\n",
      "Epoch 4/15\n",
      "2972/2972 [==============================] - 2s 508us/step - loss: 0.0334 - acc: 0.9862\n",
      "Epoch 5/15\n",
      "2972/2972 [==============================] - 2s 505us/step - loss: 0.0290 - acc: 0.9882\n",
      "Epoch 6/15\n",
      "2972/2972 [==============================] - 1s 471us/step - loss: 0.0252 - acc: 0.9913\n",
      "Epoch 7/15\n",
      "2972/2972 [==============================] - 1s 481us/step - loss: 0.0335 - acc: 0.9852\n",
      "Epoch 8/15\n",
      "2972/2972 [==============================] - 1s 477us/step - loss: 0.0356 - acc: 0.9849\n",
      "Epoch 9/15\n",
      "2972/2972 [==============================] - 1s 496us/step - loss: 0.0252 - acc: 0.9913\n",
      "Epoch 10/15\n",
      "2972/2972 [==============================] - 2s 523us/step - loss: 0.0258 - acc: 0.9876\n",
      "Epoch 11/15\n",
      "2972/2972 [==============================] - 1s 463us/step - loss: 0.0189 - acc: 0.9919\n",
      "Epoch 12/15\n",
      "2972/2972 [==============================] - 2s 509us/step - loss: 0.0190 - acc: 0.9923\n",
      "Epoch 13/15\n",
      "2972/2972 [==============================] - 1s 475us/step - loss: 0.0215 - acc: 0.9896\n",
      "Epoch 14/15\n",
      "2972/2972 [==============================] - 1s 505us/step - loss: 0.0177 - acc: 0.9919\n",
      "Epoch 15/15\n",
      "2972/2972 [==============================] - 2s 525us/step - loss: 0.0183 - acc: 0.9919\n"
     ]
    },
    {
     "data": {
      "text/plain": [
       "<keras.callbacks.History at 0x7f7ed3be58d0>"
      ]
     },
     "execution_count": 32,
     "metadata": {},
     "output_type": "execute_result"
    }
   ],
   "source": [
    "class_weights = {0: 1 ,\n",
    "                1: 1.6/2 }\n",
    "model.fit(X_train, Y_train, epochs = 15, batch_size=batch_size, verbose = 1,\n",
    "          class_weight=class_weights)"
   ]
  },
  {
   "cell_type": "code",
   "execution_count": null,
   "metadata": {
    "collapsed": true
   },
   "outputs": [],
   "source": []
  }
 ],
 "metadata": {
  "kernelspec": {
   "display_name": "Python 3",
   "language": "python",
   "name": "python3"
  },
  "language_info": {
   "codemirror_mode": {
    "name": "ipython",
    "version": 3
   },
   "file_extension": ".py",
   "mimetype": "text/x-python",
   "name": "python",
   "nbconvert_exporter": "python",
   "pygments_lexer": "ipython3",
   "version": "3.6.3"
  }
 },
 "nbformat": 4,
 "nbformat_minor": 2
}
