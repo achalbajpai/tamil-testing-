{
 "cells": [
  {
   "cell_type": "code",
   "execution_count": 1,
   "metadata": {},
   "outputs": [
    {
     "name": "stderr",
     "output_type": "stream",
     "text": [
      "/home/bharaj/anaconda3/lib/python3.6/site-packages/h5py/__init__.py:34: FutureWarning: Conversion of the second argument of issubdtype from `float` to `np.floating` is deprecated. In future, it will be treated as `np.float64 == np.dtype(float).type`.\n",
      "  from ._conv import register_converters as _register_converters\n",
      "Using TensorFlow backend.\n"
     ]
    }
   ],
   "source": [
    "import numpy as np\n",
    "import pandas as pd\n",
    "import matplotlib.pyplot as plt\n",
    "import itertools\n",
    "import string\n",
    "from tqdm import tqdm_notebook as tqdm\n",
    "\n",
    "from gensim.models import *\n",
    "\n",
    "from keras.preprocessing.text import Tokenizer\n",
    "from keras.preprocessing.sequence import pad_sequences\n",
    "from keras.layers import *\n",
    "from keras.models import *\n",
    "import keras.backend as K\n",
    "from keras.utils import np_utils\n",
    "\n",
    "from sklearn.model_selection import train_test_split\n",
    "from sklearn.metrics import classification_report, confusion_matrix"
   ]
  },
  {
   "cell_type": "code",
   "execution_count": 2,
   "metadata": {
    "collapsed": true
   },
   "outputs": [],
   "source": [
    "import os\n",
    "os.environ[\"CUDA_DEVICE_ORDER\"]=\"PCI_BUS_ID\"\n",
    "os.environ[\"CUDA_VISIBLE_DEVICES\"]=\"0\""
   ]
  },
  {
   "cell_type": "code",
   "execution_count": 3,
   "metadata": {
    "collapsed": true
   },
   "outputs": [],
   "source": [
    "def plot_confusion_matrix(cm, classes, title='Confusion matrix', cmap=plt.cm.Blues):\n",
    "\n",
    "    cm = cm.astype('float') / cm.sum(axis=1)[:, np.newaxis]\n",
    "\n",
    "    plt.imshow(cm, interpolation='nearest', cmap=cmap)\n",
    "    plt.title(title, fontsize=25)\n",
    "    #plt.colorbar()\n",
    "    tick_marks = np.arange(len(classes))\n",
    "    plt.xticks(tick_marks, classes, rotation=90, fontsize=15)\n",
    "    plt.yticks(tick_marks, classes, fontsize=15)\n",
    "\n",
    "    fmt = '.2f'\n",
    "    thresh = cm.max() / 2.\n",
    "    for i, j in itertools.product(range(cm.shape[0]), range(cm.shape[1])):\n",
    "        plt.text(j, i, format(cm[i, j], fmt),\n",
    "                 horizontalalignment=\"center\",\n",
    "                 color=\"white\" if cm[i, j] > thresh else \"black\", fontsize = 14)\n",
    "\n",
    "    plt.ylabel('True label', fontsize=20)\n",
    "    plt.xlabel('Predicted label', fontsize=20)"
   ]
  },
  {
   "cell_type": "code",
   "execution_count": 33,
   "metadata": {
    "scrolled": true
   },
   "outputs": [
    {
     "name": "stdout",
     "output_type": "stream",
     "text": [
      "(6739, 2)\n"
     ]
    },
    {
     "data": {
      "text/html": [
       "<div>\n",
       "<style>\n",
       "    .dataframe thead tr:only-child th {\n",
       "        text-align: right;\n",
       "    }\n",
       "\n",
       "    .dataframe thead th {\n",
       "        text-align: left;\n",
       "    }\n",
       "\n",
       "    .dataframe tbody tr th {\n",
       "        vertical-align: top;\n",
       "    }\n",
       "</style>\n",
       "<table border=\"1\" class=\"dataframe\">\n",
       "  <thead>\n",
       "    <tr style=\"text-align: right;\">\n",
       "      <th></th>\n",
       "      <th>category</th>\n",
       "      <th>text</th>\n",
       "    </tr>\n",
       "  </thead>\n",
       "  <tbody>\n",
       "    <tr>\n",
       "      <th>0</th>\n",
       "      <td>unknown state</td>\n",
       "      <td>Ichayan fans pinne mmade ettan fansm ivde oru...</td>\n",
       "    </tr>\n",
       "    <tr>\n",
       "      <th>1</th>\n",
       "      <td>not-malayalam</td>\n",
       "      <td>Tovi 🥰 Best Wishes From #Kunjikka Fans</td>\n",
       "    </tr>\n",
       "    <tr>\n",
       "      <th>2</th>\n",
       "      <td>unknown state</td>\n",
       "      <td>Urutty koll .nallavanaaya unniyaya saiju kuru...</td>\n",
       "    </tr>\n",
       "    <tr>\n",
       "      <th>3</th>\n",
       "      <td>not-malayalam</td>\n",
       "      <td>Pls support me pls       My channel subscribe...</td>\n",
       "    </tr>\n",
       "    <tr>\n",
       "      <th>4</th>\n",
       "      <td>Positive</td>\n",
       "      <td>Kalki super hit akum enn Bonny parayan paranju</td>\n",
       "    </tr>\n",
       "  </tbody>\n",
       "</table>\n",
       "</div>"
      ],
      "text/plain": [
       "         category                                               text\n",
       "0  unknown state    Ichayan fans pinne mmade ettan fansm ivde oru...\n",
       "1  not-malayalam              Tovi 🥰 Best Wishes From #Kunjikka Fans\n",
       "2  unknown state    Urutty koll .nallavanaaya unniyaya saiju kuru...\n",
       "3  not-malayalam    Pls support me pls       My channel subscribe...\n",
       "4       Positive      Kalki super hit akum enn Bonny parayan paranju"
      ]
     },
     "execution_count": 33,
     "metadata": {},
     "output_type": "execute_result"
    }
   ],
   "source": [
    "### READ DATA ###\n",
    "\n",
    "df = pd.read_csv('whole_mal.tsv',sep='\\t',names=['category','text'])\n",
    "\n",
    "print(df.shape)\n",
    "df.head()"
   ]
  },
  {
   "cell_type": "code",
   "execution_count": 34,
   "metadata": {},
   "outputs": [
    {
     "data": {
      "text/plain": [
       "<matplotlib.axes._subplots.AxesSubplot at 0x7f023943f5f8>"
      ]
     },
     "execution_count": 34,
     "metadata": {},
     "output_type": "execute_result"
    }
   ],
   "source": [
    "### LABEL DISTRIBUTION ###\n",
    "\n",
    "df.category.value_counts().plot.pie(figsize=(6,6))"
   ]
  },
  {
   "cell_type": "code",
   "execution_count": 35,
   "metadata": {
    "collapsed": true
   },
   "outputs": [],
   "source": [
    "### SIMPLE CLEAN OF TEXT ###\n",
    "\n",
    "df['text'] = df.text.str.lower().str.replace(r'['+string.digits+string.punctuation+']', ' ')\n",
    "df['text'] = df['text'].apply(lambda x: x.split())"
   ]
  },
  {
   "cell_type": "code",
   "execution_count": 36,
   "metadata": {
    "collapsed": true
   },
   "outputs": [],
   "source": [
    "### SPLIT INTO TRAIN/TEST ###\n",
    "\n",
    "y = np_utils.to_categorical(df.category.factorize()[0])\n",
    "\n",
    "X_train, X_test, y_train, y_test = train_test_split(df['text'].tolist(), y, random_state=33, test_size=0.2)"
   ]
  },
  {
   "cell_type": "code",
   "execution_count": 37,
   "metadata": {},
   "outputs": [
    {
     "data": {
      "text/plain": [
       "array([[1., 0., 0., 0., 0.],\n",
       "       [0., 1., 0., 0., 0.],\n",
       "       [1., 0., 0., 0., 0.],\n",
       "       ...,\n",
       "       [0., 0., 0., 1., 0.],\n",
       "       [0., 0., 0., 0., 1.],\n",
       "       [0., 0., 1., 0., 0.]], dtype=float32)"
      ]
     },
     "execution_count": 37,
     "metadata": {},
     "output_type": "execute_result"
    }
   ],
   "source": [
    "y"
   ]
  },
  {
   "cell_type": "code",
   "execution_count": 38,
   "metadata": {},
   "outputs": [
    {
     "name": "stdout",
     "output_type": "stream",
     "text": [
      "['trailer', 'bore', 'aayi', 'eni', 'movie', 'kandu', 'nokkam'] [1. 0. 0. 0. 0.]\n"
     ]
    }
   ],
   "source": [
    "print(X_train[0],y[0])"
   ]
  },
  {
   "cell_type": "code",
   "execution_count": 39,
   "metadata": {},
   "outputs": [
    {
     "data": {
      "text/plain": [
       "{0: 'unknown state ',\n",
       " 1: 'not-malayalam ',\n",
       " 2: 'Positive ',\n",
       " 3: 'Negative ',\n",
       " 4: 'Mixed feelings '}"
      ]
     },
     "execution_count": 39,
     "metadata": {},
     "output_type": "execute_result"
    }
   ],
   "source": [
    "### MAP LABEL ###\n",
    "\n",
    "diz_label = {}\n",
    "for i,label in enumerate(df.category.factorize()[1]):\n",
    "    diz_label[i] = label\n",
    "    \n",
    "diz_label"
   ]
  },
  {
   "cell_type": "code",
   "execution_count": null,
   "metadata": {
    "collapsed": true
   },
   "outputs": [],
   "source": []
  },
  {
   "cell_type": "code",
   "execution_count": 40,
   "metadata": {
    "collapsed": true
   },
   "outputs": [],
   "source": [
    "### TRAIN WORD2VEC AND FASTTEXT ###\n",
    "\n",
    "w2v = Word2Vec(size=100, window=5, min_count=4, seed=33)\n",
    "w2v.build_vocab(X_train)\n",
    "w2v.train(X_train, total_examples=w2v.corpus_count, epochs=10)\n",
    "\n",
    "ft = FastText(size=100, window=5, min_count=4, seed=33)\n",
    "ft.build_vocab(X_train)\n",
    "ft.train(X_train, total_examples=ft.corpus_count, epochs=10)"
   ]
  },
  {
   "cell_type": "code",
   "execution_count": 41,
   "metadata": {},
   "outputs": [
    {
     "name": "stdout",
     "output_type": "stream",
     "text": [
      "(5391, 200) (1348, 200)\n"
     ]
    }
   ],
   "source": [
    "### TRANSFORM ORIGINAL TEXT INTO SEQUENCES AND COMPUTE PADDING ###\n",
    "\n",
    "max_len = 200\n",
    "\n",
    "tokenizer = Tokenizer(lower=True, split='')\n",
    "tokenizer.fit_on_texts(X_train)\n",
    "\n",
    "sequence_train = tokenizer.texts_to_sequences(X_train)\n",
    "sequence_train = pad_sequences(sequence_train, maxlen=max_len)\n",
    "\n",
    "sequence_test = tokenizer.texts_to_sequences(X_test)\n",
    "sequence_test = pad_sequences(sequence_test, maxlen=max_len)\n",
    "\n",
    "sequence_train = np.asarray(sequence_train)\n",
    "sequence_test = np.asarray(sequence_test)\n",
    "\n",
    "print(sequence_train.shape, sequence_test.shape)"
   ]
  },
  {
   "cell_type": "code",
   "execution_count": 42,
   "metadata": {},
   "outputs": [
    {
     "name": "stdout",
     "output_type": "stream",
     "text": [
      "not in vocabulary 12245\n"
     ]
    }
   ],
   "source": [
    "### GET TRAINED WEIGHTS FOR EACH WORD FROM WORD2VEC ###\n",
    "\n",
    "embedding_matrix_w2v = np.random.random((len(tokenizer.word_index) + 1, 100))\n",
    "\n",
    "pas = 0\n",
    "for word,i in tokenizer.word_index.items():\n",
    "    \n",
    "    try:\n",
    "        embedding_matrix_w2v[i] = w2v.wv[word]\n",
    "    except:\n",
    "        pas+=1\n",
    "        \n",
    "print('not in vocabulary', pas)"
   ]
  },
  {
   "cell_type": "code",
   "execution_count": 43,
   "metadata": {},
   "outputs": [
    {
     "name": "stdout",
     "output_type": "stream",
     "text": [
      "not in vocabulary 0\n"
     ]
    }
   ],
   "source": [
    "### GET TRAINED WEIGHTS FOR EACH WORD FROM FASTTEXT ###\n",
    "\n",
    "embedding_matrix_ft = np.random.random((len(tokenizer.word_index) + 1, 100))\n",
    "\n",
    "pas = 0\n",
    "for word,i in tokenizer.word_index.items():\n",
    "    \n",
    "    try:\n",
    "        embedding_matrix_ft[i] = ft.wv[word]\n",
    "    except:\n",
    "        pas+=1\n",
    "        \n",
    "print('not in vocabulary', pas)"
   ]
  },
  {
   "cell_type": "code",
   "execution_count": 44,
   "metadata": {
    "collapsed": true
   },
   "outputs": [],
   "source": [
    "### DEFINE INPUT LAYER FOR EMBEDDINGS READING AND CONCATENATION ###\n",
    "\n",
    "def Concat_Emb(list_emb, maxlen):\n",
    "    \n",
    "    inputs = []\n",
    "    output = []\n",
    "    for embedding in list_emb:\n",
    "        \n",
    "        inp = Input(shape=(maxlen,))\n",
    "        emb = Embedding(len(tokenizer.word_index) + 1, 100, weights=[embedding], trainable=False)(inp)\n",
    "        emb = Reshape((-1,100,1))(emb)\n",
    "        inputs.append(inp)\n",
    "        output.append(emb)\n",
    "        \n",
    "    concat = Concatenate(axis=-1)(output)\n",
    "    \n",
    "    return Model(inputs, concat)"
   ]
  },
  {
   "cell_type": "code",
   "execution_count": 45,
   "metadata": {},
   "outputs": [
    {
     "name": "stdout",
     "output_type": "stream",
     "text": [
      "__________________________________________________________________________________________________\n",
      "Layer (type)                    Output Shape         Param #     Connected to                     \n",
      "==================================================================================================\n",
      "input_9 (InputLayer)            (None, 200)          0                                            \n",
      "__________________________________________________________________________________________________\n",
      "input_10 (InputLayer)           (None, 200)          0                                            \n",
      "__________________________________________________________________________________________________\n",
      "embedding_7 (Embedding)         (None, 200, 100)     1378400     input_9[0][0]                    \n",
      "__________________________________________________________________________________________________\n",
      "embedding_8 (Embedding)         (None, 200, 100)     1378400     input_10[0][0]                   \n",
      "__________________________________________________________________________________________________\n",
      "reshape_11 (Reshape)            (None, 200, 100, 1)  0           embedding_7[0][0]                \n",
      "__________________________________________________________________________________________________\n",
      "reshape_12 (Reshape)            (None, 200, 100, 1)  0           embedding_8[0][0]                \n",
      "__________________________________________________________________________________________________\n",
      "concatenate_4 (Concatenate)     (None, 200, 100, 2)  0           reshape_11[0][0]                 \n",
      "                                                                 reshape_12[0][0]                 \n",
      "==================================================================================================\n",
      "Total params: 2,756,800\n",
      "Trainable params: 0\n",
      "Non-trainable params: 2,756,800\n",
      "__________________________________________________________________________________________________\n"
     ]
    }
   ],
   "source": [
    "### TRY Concat_Emb ###\n",
    "\n",
    "read_emb = Concat_Emb([embedding_matrix_w2v, embedding_matrix_ft], maxlen=max_len)\n",
    "read_emb.summary()"
   ]
  },
  {
   "cell_type": "code",
   "execution_count": 46,
   "metadata": {
    "collapsed": true
   },
   "outputs": [],
   "source": [
    "### DEFINE DME AND CDME BLOCKS ###\n",
    "\n",
    "def DME(maxlen):\n",
    "\n",
    "    inp = Input(shape=(maxlen, 100, 2))\n",
    "    x = Reshape((maxlen, -1))(inp)\n",
    "    x = LSTM(2, return_sequences=True)(x)\n",
    "    x = Activation('sigmoid')(x)\n",
    "    x = Reshape((maxlen, 1, 2))(x)\n",
    "    x = multiply([inp, x])\n",
    "    out = Lambda(lambda t: K.sum(t, axis=-1))(x)\n",
    "    \n",
    "    return Model(inp, out)\n",
    "\n",
    "def CDME(maxlen, latent_dim=2):\n",
    "    \n",
    "    inp = Input(shape=(maxlen, 100, 2))\n",
    "    x = Reshape((maxlen, -1))(inp)\n",
    "    x = Bidirectional(LSTM(latent_dim, return_sequences=True))(x)\n",
    "    x = Lambda(lambda t: [t[:,:,:int(latent_dim/2+1)], t[:,:,int(latent_dim/2+1):]])(x)\n",
    "    x = Maximum()(x)\n",
    "    x = Activation('sigmoid')(x)\n",
    "    x = Reshape((maxlen, 1, 2))(x)\n",
    "    x = multiply([inp, x])\n",
    "    out = Lambda(lambda t: K.sum(t, axis=-1))(x)\n",
    "    \n",
    "    return Model(inp, out)"
   ]
  },
  {
   "cell_type": "code",
   "execution_count": 47,
   "metadata": {},
   "outputs": [
    {
     "name": "stdout",
     "output_type": "stream",
     "text": [
      "__________________________________________________________________________________________________\n",
      "Layer (type)                    Output Shape         Param #     Connected to                     \n",
      "==================================================================================================\n",
      "input_11 (InputLayer)           (None, 200)          0                                            \n",
      "__________________________________________________________________________________________________\n",
      "input_12 (InputLayer)           (None, 200)          0                                            \n",
      "__________________________________________________________________________________________________\n",
      "embedding_9 (Embedding)         (None, 200, 100)     1378400     input_11[0][0]                   \n",
      "__________________________________________________________________________________________________\n",
      "embedding_10 (Embedding)        (None, 200, 100)     1378400     input_12[0][0]                   \n",
      "__________________________________________________________________________________________________\n",
      "reshape_13 (Reshape)            (None, 200, 100, 1)  0           embedding_9[0][0]                \n",
      "__________________________________________________________________________________________________\n",
      "reshape_14 (Reshape)            (None, 200, 100, 1)  0           embedding_10[0][0]               \n",
      "__________________________________________________________________________________________________\n",
      "concatenate_5 (Concatenate)     (None, 200, 100, 2)  0           reshape_13[0][0]                 \n",
      "                                                                 reshape_14[0][0]                 \n",
      "__________________________________________________________________________________________________\n",
      "model_10 (Model)                (None, 200, 100)     1624        concatenate_5[0][0]              \n",
      "__________________________________________________________________________________________________\n",
      "gru_5 (GRU)                     (None, 200, 128)     87936       model_10[1][0]                   \n",
      "__________________________________________________________________________________________________\n",
      "gru_6 (GRU)                     (None, 32)           15456       gru_5[0][0]                      \n",
      "__________________________________________________________________________________________________\n",
      "dense_3 (Dense)                 (None, 5)            165         gru_6[0][0]                      \n",
      "==================================================================================================\n",
      "Total params: 2,861,981\n",
      "Trainable params: 105,181\n",
      "Non-trainable params: 2,756,800\n",
      "__________________________________________________________________________________________________\n"
     ]
    }
   ],
   "source": [
    "### DEFINE NETWORK WITH DME ###\n",
    "\n",
    "concat_inp = Concat_Emb([embedding_matrix_w2v, embedding_matrix_ft], maxlen=max_len)\n",
    "dme = DME(max_len)\n",
    "x = dme(concat_inp.output)\n",
    "x = GRU(128, dropout=0.2, return_sequences=True)(x)\n",
    "x = GRU(32, dropout=0.2)(x)\n",
    "out = Dense(y.shape[1], activation='softmax')(x)\n",
    "\n",
    "dme_model = Model(concat_inp.input, out)\n",
    "dme_model.compile(loss='categorical_crossentropy', optimizer='adam', metrics=['accuracy'])\n",
    "\n",
    "dme_model.summary()"
   ]
  },
  {
   "cell_type": "code",
   "execution_count": 48,
   "metadata": {},
   "outputs": [
    {
     "name": "stdout",
     "output_type": "stream",
     "text": [
      "Train on 4851 samples, validate on 540 samples\n",
      "Epoch 1/20\n",
      " - 46s - loss: 1.3953 - acc: 0.3974 - val_loss: 1.3517 - val_acc: 0.4667\n",
      "Epoch 2/20\n",
      " - 41s - loss: 1.3348 - acc: 0.4341 - val_loss: 1.2882 - val_acc: 0.5019\n",
      "Epoch 3/20\n",
      " - 41s - loss: 1.2954 - acc: 0.4663 - val_loss: 1.2354 - val_acc: 0.5315\n",
      "Epoch 4/20\n",
      " - 41s - loss: 1.2640 - acc: 0.4884 - val_loss: 1.1858 - val_acc: 0.5352\n",
      "Epoch 5/20\n",
      " - 40s - loss: 1.2367 - acc: 0.4976 - val_loss: 1.1766 - val_acc: 0.5500\n",
      "Epoch 6/20\n",
      " - 41s - loss: 1.2243 - acc: 0.5042 - val_loss: 1.1625 - val_acc: 0.5481\n",
      "Epoch 7/20\n",
      " - 40s - loss: 1.2103 - acc: 0.5077 - val_loss: 1.1524 - val_acc: 0.5519\n",
      "Epoch 8/20\n",
      " - 41s - loss: 1.1918 - acc: 0.5182 - val_loss: 1.1528 - val_acc: 0.5481\n",
      "Epoch 9/20\n",
      " - 40s - loss: 1.1776 - acc: 0.5213 - val_loss: 1.1287 - val_acc: 0.5648\n",
      "Epoch 10/20\n",
      " - 40s - loss: 1.1596 - acc: 0.5430 - val_loss: 1.1200 - val_acc: 0.5463\n",
      "Epoch 11/20\n",
      " - 40s - loss: 1.1443 - acc: 0.5442 - val_loss: 1.0926 - val_acc: 0.5574\n",
      "Epoch 12/20\n",
      " - 40s - loss: 1.1398 - acc: 0.5488 - val_loss: 1.0865 - val_acc: 0.5704\n",
      "Epoch 13/20\n",
      " - 41s - loss: 1.1213 - acc: 0.5535 - val_loss: 1.0786 - val_acc: 0.5611\n",
      "Epoch 14/20\n",
      " - 41s - loss: 1.1200 - acc: 0.5516 - val_loss: 1.0810 - val_acc: 0.5741\n",
      "Epoch 15/20\n",
      " - 40s - loss: 1.1105 - acc: 0.5558 - val_loss: 1.0650 - val_acc: 0.5574\n",
      "Epoch 16/20\n",
      " - 40s - loss: 1.1005 - acc: 0.5611 - val_loss: 1.0843 - val_acc: 0.5648\n",
      "Epoch 17/20\n",
      " - 41s - loss: 1.1147 - acc: 0.5543 - val_loss: 1.0839 - val_acc: 0.5574\n",
      "Epoch 18/20\n",
      " - 40s - loss: 1.0882 - acc: 0.5671 - val_loss: 1.0582 - val_acc: 0.5833\n",
      "Epoch 19/20\n",
      " - 41s - loss: 1.0858 - acc: 0.5655 - val_loss: 1.0966 - val_acc: 0.5593\n",
      "Epoch 20/20\n",
      " - 41s - loss: 1.0861 - acc: 0.5628 - val_loss: 1.0713 - val_acc: 0.5648\n"
     ]
    },
    {
     "data": {
      "text/plain": [
       "<keras.callbacks.History at 0x7f066d68d470>"
      ]
     },
     "execution_count": 48,
     "metadata": {},
     "output_type": "execute_result"
    }
   ],
   "source": [
    "dme_model.fit([sequence_train]*2, y_train, batch_size=128, epochs=20, verbose=2, validation_split=0.1)"
   ]
  },
  {
   "cell_type": "code",
   "execution_count": 49,
   "metadata": {},
   "outputs": [
    {
     "name": "stdout",
     "output_type": "stream",
     "text": [
      "                 precision    recall  f1-score   support\n",
      "\n",
      "Mixed feelings        0.00      0.00      0.00        73\n",
      "      Negative        0.63      0.08      0.14       148\n",
      "      Positive        0.55      0.86      0.67       559\n",
      " not-malayalam        0.64      0.42      0.51       185\n",
      " unknown state        0.56      0.48      0.52       383\n",
      "\n",
      "      micro avg       0.56      0.56      0.56      1348\n",
      "      macro avg       0.48      0.37      0.37      1348\n",
      "   weighted avg       0.54      0.56      0.51      1348\n",
      "\n"
     ]
    },
    {
     "name": "stderr",
     "output_type": "stream",
     "text": [
      "/home/bharaj/anaconda3/lib/python3.6/site-packages/sklearn/metrics/classification.py:1143: UndefinedMetricWarning: Precision and F-score are ill-defined and being set to 0.0 in labels with no predicted samples.\n",
      "  'precision', 'predicted', average, warn_for)\n"
     ]
    }
   ],
   "source": [
    "print(classification_report([diz_label[i] for i in np.argmax(y_test, axis=1)], \n",
    "                            [diz_label[i] for i in np.argmax(dme_model.predict([sequence_test]*2), axis=1)]))"
   ]
  },
  {
   "cell_type": "code",
   "execution_count": 50,
   "metadata": {},
   "outputs": [
    {
     "data": {
      "image/png": "[encoded data removed]",
      "text/plain": [
       "<matplotlib.figure.Figure at 0x7f02394d0ac8>"
      ]
     },
     "metadata": {},
     "output_type": "display_data"
    },
    {
     "data": {
      "image/png": "[encoded data removed]",
      "text/plain": [
       "<matplotlib.figure.Figure at 0x7f0220fccf98>"
      ]
     },
     "metadata": {},
     "output_type": "display_data"
    }
   ],
   "source": [
    "cnf_matrix = confusion_matrix([diz_label[i] for i in np.argmax(y_test, axis=1)], \n",
    "                              [diz_label[i] for i in np.argmax(dme_model.predict([sequence_test]*2), axis=1)])\n",
    "\n",
    "plt.figure(figsize=(7,7))\n",
    "plot_confusion_matrix(cnf_matrix, classes=list(diz_label.values()), title=\"Confusion matrix DME\")\n",
    "plt.show()"
   ]
  },
  {
   "cell_type": "code",
   "execution_count": null,
   "metadata": {
    "collapsed": true
   },
   "outputs": [],
   "source": []
  },
  {
   "cell_type": "code",
   "execution_count": 51,
   "metadata": {},
   "outputs": [
    {
     "name": "stdout",
     "output_type": "stream",
     "text": [
      "__________________________________________________________________________________________________\n",
      "Layer (type)                    Output Shape         Param #     Connected to                     \n",
      "==================================================================================================\n",
      "input_14 (InputLayer)           (None, 200)          0                                            \n",
      "__________________________________________________________________________________________________\n",
      "input_15 (InputLayer)           (None, 200)          0                                            \n",
      "__________________________________________________________________________________________________\n",
      "embedding_11 (Embedding)        (None, 200, 100)     1378400     input_14[0][0]                   \n",
      "__________________________________________________________________________________________________\n",
      "embedding_12 (Embedding)        (None, 200, 100)     1378400     input_15[0][0]                   \n",
      "__________________________________________________________________________________________________\n",
      "reshape_17 (Reshape)            (None, 200, 100, 1)  0           embedding_11[0][0]               \n",
      "__________________________________________________________________________________________________\n",
      "reshape_18 (Reshape)            (None, 200, 100, 1)  0           embedding_12[0][0]               \n",
      "__________________________________________________________________________________________________\n",
      "concatenate_6 (Concatenate)     (None, 200, 100, 2)  0           reshape_17[0][0]                 \n",
      "                                                                 reshape_18[0][0]                 \n",
      "__________________________________________________________________________________________________\n",
      "model_13 (Model)                (None, 200, 100)     3248        concatenate_6[0][0]              \n",
      "__________________________________________________________________________________________________\n",
      "gru_7 (GRU)                     (None, 200, 128)     87936       model_13[1][0]                   \n",
      "__________________________________________________________________________________________________\n",
      "gru_8 (GRU)                     (None, 32)           15456       gru_7[0][0]                      \n",
      "__________________________________________________________________________________________________\n",
      "dense_4 (Dense)                 (None, 5)            165         gru_8[0][0]                      \n",
      "==================================================================================================\n",
      "Total params: 2,863,605\n",
      "Trainable params: 106,805\n",
      "Non-trainable params: 2,756,800\n",
      "__________________________________________________________________________________________________\n"
     ]
    }
   ],
   "source": [
    "### DEFINE NETWORK WITH CDME ###\n",
    "\n",
    "concat_inp = Concat_Emb([embedding_matrix_w2v, embedding_matrix_ft], maxlen=max_len)\n",
    "cdme = CDME(max_len)\n",
    "x = cdme(concat_inp.output)\n",
    "x = GRU(128, dropout=0.2, return_sequences=True)(x)\n",
    "x = GRU(32, dropout=0.2)(x)\n",
    "out = Dense(y.shape[1], activation='softmax')(x)\n",
    "\n",
    "cdme_model = Model(concat_inp.input, out)\n",
    "cdme_model.compile(loss='categorical_crossentropy', optimizer='adam', metrics=['accuracy'])\n",
    "\n",
    "cdme_model.summary()"
   ]
  },
  {
   "cell_type": "code",
   "execution_count": 52,
   "metadata": {},
   "outputs": [
    {
     "name": "stdout",
     "output_type": "stream",
     "text": [
      "Train on 4851 samples, validate on 540 samples\n",
      "Epoch 1/20\n",
      " - 60s - loss: 1.3915 - acc: 0.4148 - val_loss: 1.3352 - val_acc: 0.4611\n",
      "Epoch 2/20\n",
      " - 53s - loss: 1.3334 - acc: 0.4397 - val_loss: 1.2798 - val_acc: 0.5019\n",
      "Epoch 3/20\n",
      " - 53s - loss: 1.2973 - acc: 0.4677 - val_loss: 1.2442 - val_acc: 0.5074\n",
      "Epoch 4/20\n",
      " - 52s - loss: 1.2592 - acc: 0.4906 - val_loss: 1.2000 - val_acc: 0.5204\n",
      "Epoch 5/20\n",
      " - 53s - loss: 1.2497 - acc: 0.4972 - val_loss: 1.1786 - val_acc: 0.5333\n",
      "Epoch 6/20\n",
      " - 52s - loss: 1.2293 - acc: 0.5030 - val_loss: 1.1839 - val_acc: 0.5389\n",
      "Epoch 7/20\n",
      " - 52s - loss: 1.2067 - acc: 0.5133 - val_loss: 1.1493 - val_acc: 0.5444\n",
      "Epoch 8/20\n",
      " - 53s - loss: 1.1954 - acc: 0.5213 - val_loss: 1.1518 - val_acc: 0.5611\n",
      "Epoch 9/20\n",
      " - 52s - loss: 1.1694 - acc: 0.5337 - val_loss: 1.1244 - val_acc: 0.5463\n",
      "Epoch 10/20\n",
      " - 53s - loss: 1.1676 - acc: 0.5354 - val_loss: 1.1266 - val_acc: 0.5463\n",
      "Epoch 11/20\n",
      " - 52s - loss: 1.1594 - acc: 0.5368 - val_loss: 1.1031 - val_acc: 0.5685\n",
      "Epoch 12/20\n",
      " - 53s - loss: 1.1480 - acc: 0.5452 - val_loss: 1.0990 - val_acc: 0.5500\n",
      "Epoch 13/20\n",
      " - 54s - loss: 1.1547 - acc: 0.5364 - val_loss: 1.0997 - val_acc: 0.5593\n",
      "Epoch 14/20\n",
      " - 55s - loss: 1.1288 - acc: 0.5467 - val_loss: 1.0866 - val_acc: 0.5778\n",
      "Epoch 15/20\n",
      " - 54s - loss: 1.1119 - acc: 0.5537 - val_loss: 1.0800 - val_acc: 0.5778\n",
      "Epoch 16/20\n",
      " - 54s - loss: 1.1171 - acc: 0.5547 - val_loss: 1.1003 - val_acc: 0.5574\n",
      "Epoch 17/20\n",
      " - 53s - loss: 1.1013 - acc: 0.5595 - val_loss: 1.0698 - val_acc: 0.5630\n",
      "Epoch 18/20\n",
      " - 54s - loss: 1.0927 - acc: 0.5735 - val_loss: 1.0622 - val_acc: 0.5667\n",
      "Epoch 19/20\n",
      " - 53s - loss: 1.0788 - acc: 0.5661 - val_loss: 1.0654 - val_acc: 0.5759\n",
      "Epoch 20/20\n",
      " - 53s - loss: 1.0988 - acc: 0.5597 - val_loss: 1.0604 - val_acc: 0.5778\n"
     ]
    },
    {
     "data": {
      "text/plain": [
       "<keras.callbacks.History at 0x7f066c2b7f60>"
      ]
     },
     "execution_count": 52,
     "metadata": {},
     "output_type": "execute_result"
    }
   ],
   "source": [
    "cdme_model.fit([sequence_train]*2, y_train, batch_size=128, epochs=20, verbose=2, validation_split=0.1)"
   ]
  },
  {
   "cell_type": "code",
   "execution_count": 53,
   "metadata": {},
   "outputs": [
    {
     "name": "stdout",
     "output_type": "stream",
     "text": [
      "                 precision    recall  f1-score   support\n",
      "\n",
      "Mixed feelings        0.00      0.00      0.00        73\n",
      "      Negative        0.55      0.11      0.18       148\n",
      "      Positive        0.56      0.85      0.67       559\n",
      " not-malayalam        0.57      0.43      0.49       185\n",
      " unknown state        0.57      0.48      0.52       383\n",
      "\n",
      "      micro avg       0.56      0.56      0.56      1348\n",
      "      macro avg       0.45      0.37      0.37      1348\n",
      "   weighted avg       0.53      0.56      0.51      1348\n",
      "\n"
     ]
    },
    {
     "name": "stderr",
     "output_type": "stream",
     "text": [
      "/home/bharaj/anaconda3/lib/python3.6/site-packages/sklearn/metrics/classification.py:1143: UndefinedMetricWarning: Precision and F-score are ill-defined and being set to 0.0 in labels with no predicted samples.\n",
      "  'precision', 'predicted', average, warn_for)\n"
     ]
    }
   ],
   "source": [
    "print(classification_report([diz_label[i] for i in np.argmax(y_test, axis=1)], \n",
    "                            [diz_label[i] for i in np.argmax(cdme_model.predict([sequence_test]*2), axis=1)]))"
   ]
  },
  {
   "cell_type": "code",
   "execution_count": 54,
   "metadata": {},
   "outputs": [
    {
     "data": {
      "image/png": "[encoded data removed]",
      "text/plain": [
       "<matplotlib.figure.Figure at 0x7f0239482978>"
      ]
     },
     "metadata": {},
     "output_type": "display_data"
    }
   ],
   "source": [
    "cnf_matrix = confusion_matrix([diz_label[i] for i in np.argmax(y_test, axis=1)], \n",
    "                              [diz_label[i] for i in np.argmax(cdme_model.predict([sequence_test]*2), axis=1)])\n",
    "\n",
    "plt.figure(figsize=(7,7))\n",
    "plot_confusion_matrix(cnf_matrix, classes=list(diz_label.values()), title=\"Confusion matrix CDME\")\n",
    "plt.show()"
   ]
  },
  {
   "cell_type": "code",
   "execution_count": null,
   "metadata": {
    "collapsed": true
   },
   "outputs": [],
   "source": []
  },
  {
   "cell_type": "code",
   "execution_count": null,
   "metadata": {
    "collapsed": true
   },
   "outputs": [],
   "source": []
  },
  {
   "cell_type": "code",
   "execution_count": null,
   "metadata": {
    "collapsed": true
   },
   "outputs": [],
   "source": []
  },
  {
   "cell_type": "code",
   "execution_count": null,
   "metadata": {
    "collapsed": true
   },
   "outputs": [],
   "source": []
  }
 ],
 "metadata": {
  "kernelspec": {
   "display_name": "Python 3",
   "language": "python",
   "name": "python3"
  },
  "language_info": {
   "codemirror_mode": {
    "name": "ipython",
    "version": 3
   },
   "file_extension": ".py",
   "mimetype": "text/x-python",
   "name": "python",
   "nbconvert_exporter": "python",
   "pygments_lexer": "ipython3",
   "version": "3.6.3"
  }
 },
 "nbformat": 4,
 "nbformat_minor": 2
}
